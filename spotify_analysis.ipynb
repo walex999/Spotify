{
 "cells": [
  {
   "cell_type": "markdown",
   "metadata": {},
   "source": [
    "# Spotify Data Analysis Project\n",
    "The goal of this project is to analyze user data that can be obtained through Spotify after a long time using the platform.\n",
    "The analysis of personal data is now a main selling point for spotify with their \"spotify's wrapped\" release every year for each user.\n",
    "Being able to analyze the data without waiting a year for it can be greatly insightful and fun to do!"
   ]
  },
  {
   "cell_type": "markdown",
   "metadata": {},
   "source": [
    "### Imports"
   ]
  },
  {
   "cell_type": "code",
   "execution_count": 2,
   "metadata": {},
   "outputs": [],
   "source": [
    "#!/usr/bin/python3\n",
    "\n",
    "import pandas as pd\n",
    "from dotenv import load_dotenv\n",
    "from os import getenv"
   ]
  },
  {
   "cell_type": "code",
   "execution_count": 3,
   "metadata": {},
   "outputs": [
    {
     "name": "stdout",
     "output_type": "stream",
     "text": [
      "./Spotify Account Data/StreamingHistory_music_0.json\n",
      "./Spotify Account Data/StreamingHistory_music_1.json\n",
      "./Spotify Account Data/StreamingHistory_music_2.json\n"
     ]
    }
   ],
   "source": [
    "load_dotenv(\"./spotify.env\")\n",
    "\n",
    "# import all streamin history values\n",
    "strm0=getenv(\"streaming0\")\n",
    "print(strm0)\n",
    "strm1=getenv(\"streaming1\")\n",
    "print(strm1)\n",
    "strm2=getenv(\"streaming2\")\n",
    "print(strm2)"
   ]
  },
  {
   "cell_type": "code",
   "execution_count": 4,
   "metadata": {},
   "outputs": [
    {
     "name": "stdout",
     "output_type": "stream",
     "text": [
      "            endTime          artistName  \\\n",
      "0  2023-03-13 12:52          Madvillain   \n",
      "1  2023-03-15 11:24         Jean Dawson   \n",
      "2  2023-03-19 23:17     Superstar Pride   \n",
      "3  2023-03-20 09:29          Dreamville   \n",
      "4  2023-03-20 09:33      Kendrick Lamar   \n",
      "5  2023-03-20 09:38               Drake   \n",
      "6  2023-03-20 09:42          Kanye West   \n",
      "7  2023-03-20 09:43                Joji   \n",
      "8  2023-03-20 09:47         Joey Bada$$   \n",
      "9  2023-03-20 09:50  Tyler, The Creator   \n",
      "\n",
      "                                           trackName  msPlayed  \n",
      "0                                       Meat Grinder     73231  \n",
      "1                                         BAD FRUIT*      4080  \n",
      "2                                  PAINTING PICTURES     43073  \n",
      "3  Sacrifices (with EARTHGANG & J. Cole feat. Smi...    382306  \n",
      "4                                             PRIDE.    275253  \n",
      "5                                           Too Much    261866  \n",
      "6                                            Bound 2    229146  \n",
      "7                           SLOW DANCING IN THE DARK     95463  \n",
      "8                                            Show Me    220386  \n",
      "9  FIND YOUR WINGS (feat. Roy Ayers, Sydney Benne...    179042  \n",
      "106240\n"
     ]
    }
   ],
   "source": [
    "stream_db0 = pd.read_json(strm0)\n",
    "stream_db1 = pd.read_json(strm1)\n",
    "stream_db2= pd.read_json(strm2)\n",
    "\n",
    "temp = pd.concat([stream_db0,stream_db1])\n",
    "streaming_history = pd.concat([temp, stream_db2])\n",
    "\n",
    "\n",
    "print(streaming_history.head(10))\n",
    "print(streaming_history.size)"
   ]
  },
  {
   "cell_type": "markdown",
   "metadata": {},
   "source": [
    "### ANALYSIS"
   ]
  }
 ],
 "metadata": {
  "kernelspec": {
   "display_name": ".venv",
   "language": "python",
   "name": "python3"
  },
  "language_info": {
   "codemirror_mode": {
    "name": "ipython",
    "version": 3
   },
   "file_extension": ".py",
   "mimetype": "text/x-python",
   "name": "python",
   "nbconvert_exporter": "python",
   "pygments_lexer": "ipython3",
   "version": "3.9.6"
  }
 },
 "nbformat": 4,
 "nbformat_minor": 2
}
